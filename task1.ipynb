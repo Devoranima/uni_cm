{
 "cells": [
  {
   "cell_type": "markdown",
   "metadata": {},
   "source": [
    "#  Интегрирование задачи Коши методом Рунге-Кутты второго порядка."
   ]
  },
  {
   "cell_type": "markdown",
   "metadata": {},
   "source": [
    "## Импортируем модули"
   ]
  },
  {
   "cell_type": "code",
   "execution_count": 3,
   "metadata": {},
   "outputs": [],
   "source": [
    "import numpy as np"
   ]
  },
  {
   "cell_type": "markdown",
   "metadata": {},
   "source": [
    "## Метод Рунге-Кутты второго порядка для задачи Коши\n",
    "\n",
    "Входные параметры:\n",
    "- f: Правая часть системы уравнений y' = f(t, y)\n",
    "- y0: Начальное условие (вектор)\n",
    "- t0: Начальное значение времени\n",
    "- t_end: Конечное значение времени\n",
    "- h: Шаг интегрирования\n",
    "\n",
    "Возвращает: Массив времени t и массив решений y\n"
   ]
  },
  {
   "cell_type": "code",
   "execution_count": 4,
   "metadata": {},
   "outputs": [],
   "source": [
    "def runge_kutta_2(f, y0, t0, t_end, h):\n",
    "    t = np.arange(t0, t_end + h, h)\n",
    "    y = np.zeros((len(t), len(y0)))\n",
    "    y[0] = y0\n",
    "\n",
    "    for i in range(1, len(t)):\n",
    "        k1 = f(t[i - 1], y[i - 1])\n",
    "        k2 = f(t[i - 1] + h, y[i - 1] + h * k1)\n",
    "        y[i] = y[i - 1] + h * (k1 + k2) / 2\n",
    "\n",
    "    return t, y"
   ]
  },
  {
   "cell_type": "markdown",
   "metadata": {},
   "source": [
    "## Тестовая задача y' = f(t, y)\n",
    "\n",
    "Входные параметры:\n",
    "- t: Время\n",
    "- y: Вектор функции [y1, y2]\n",
    "\n",
    "Возвращает: Производные [dy1/dt, dy2/dt]"
   ]
  },
  {
   "cell_type": "code",
   "execution_count": null,
   "metadata": {},
   "outputs": [],
   "source": [
    "def test_system(t, y):\n",
    "    dy1_dt = y[0] / (2 + 2 * t) - 2 * y[1]\n",
    "    dy2_dt = y[1] / (2 + 2 * t) + 2 * y[0]\n",
    "    return np.array([dy1_dt, dy2_dt])"
   ]
  },
  {
   "cell_type": "markdown",
   "metadata": {},
   "source": [
    "## Точное решение тестовой задачи\n",
    "\n",
    "Входные параметры:\n",
    "- t: Время (массив)\n",
    "\n",
    "Возвращает: Векторы точных решений [y1, y2]"
   ]
  },
  {
   "cell_type": "code",
   "execution_count": null,
   "metadata": {},
   "outputs": [],
   "source": [
    "\n",
    "def exact_solution(t):\n",
    "    y1_exact = np.cos(t**2) * np.sqrt(1 + t)\n",
    "    y2_exact = np.sin(t**2) * np.sqrt(1 + t)\n",
    "    return y1_exact, y2_exact\n"
   ]
  },
  {
   "cell_type": "markdown",
   "metadata": {},
   "source": [
    "## Основная функция"
   ]
  },
  {
   "cell_type": "code",
   "execution_count": null,
   "metadata": {},
   "outputs": [],
   "source": [
    "if __name__ == \"__main__\":\n",
    "    # Параметры интегрирования\n",
    "    t0, t_end, h = 0, 2, 0.1\n",
    "    y0 = [1, 0]  # Начальные условия\n",
    "\n",
    "    # Численное решение\n",
    "    t, y_numeric = runge_kutta_2(test_system, y0, t0, t_end, h)\n",
    "\n",
    "    # Точное решение\n",
    "    y1_exact, y2_exact = exact_solution(t)\n",
    "\n",
    "    # Вывод результатов\n",
    "    import matplotlib.pyplot as plt\n",
    "\n",
    "    plt.figure(figsize=(10, 6))\n",
    "\n",
    "    plt.plot(t, y_numeric[:, 0], 'o-', label=\"Численное y1\")\n",
    "    plt.plot(t, y_numeric[:, 1], 'o-', label=\"Численное y2\")\n",
    "    plt.plot(t, y1_exact, '-', label=\"Точное y1\")\n",
    "    plt.plot(t, y2_exact, '-', label=\"Точное y2\")\n",
    "\n",
    "    plt.xlabel(\"t\")\n",
    "    plt.ylabel(\"y\")\n",
    "    plt.legend()\n",
    "    plt.title(\"Сравнение численного и точного решения\")\n",
    "    plt.grid()\n",
    "    plt.show()\n"
   ]
  }
 ],
 "metadata": {
  "kernelspec": {
   "display_name": "venv",
   "language": "python",
   "name": "python3"
  },
  "language_info": {
   "codemirror_mode": {
    "name": "ipython",
    "version": 3
   },
   "file_extension": ".py",
   "mimetype": "text/x-python",
   "name": "python",
   "nbconvert_exporter": "python",
   "pygments_lexer": "ipython3",
   "version": "3.10.12"
  }
 },
 "nbformat": 4,
 "nbformat_minor": 2
}
